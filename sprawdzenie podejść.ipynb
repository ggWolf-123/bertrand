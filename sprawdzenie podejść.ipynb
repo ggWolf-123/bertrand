{
 "cells": [
  {
   "cell_type": "code",
   "execution_count": 1,
   "id": "a68f50f2",
   "metadata": {},
   "outputs": [],
   "source": [
    "from decimal import Decimal, getcontext\n",
    "import random\n",
    "import math\n",
    "import csv\n",
    "getcontext().prec=50\n",
    "r=Decimal(1)\n",
    "threshold=Decimal(3).sqrt()"
   ]
  },
  {
   "cell_type": "markdown",
   "id": "dd927af6",
   "metadata": {},
   "source": [
    "Metoda 1, losowanie dwóch punktów na okręgu"
   ]
  },
  {
   "cell_type": "code",
   "execution_count": 11,
   "id": "249d0611",
   "metadata": {},
   "outputs": [],
   "source": [
    "def metoda_1(n,count=0, filename=\"metoda_1_4.csv\"):\n",
    "    with open(filename, mode='w',newline='') as file:\n",
    "        writer=csv.writer(file)\n",
    "        writer.writerow(['x1','y1','x2','y2','length','is_longer'])\n",
    "        for i in range(n):\n",
    "            theta1=Decimal(random.uniform(0,2*math.pi))\n",
    "            theta2=Decimal(random.uniform(0,2*math.pi))\n",
    "\n",
    "            x1=r*Decimal(math.cos(float(theta1)))\n",
    "            y1=r*Decimal(math.sin(float(theta1)))\n",
    "            x2=r*Decimal(math.cos(float(theta2)))\n",
    "            y2=r*Decimal(math.sin(float(theta2)))\n",
    "\n",
    "            dx=x2-x1\n",
    "            dy=y2-y1\n",
    "            length=(dx**2+dy**2).sqrt()\n",
    "\n",
    "            is_longer=int(length>threshold)\n",
    "            if is_longer==1:\n",
    "                count+=1\n",
    "            if i==119 or i==1199 or i==11999 or i==119999:\n",
    "                probability=Decimal(count)/Decimal(i+1)\n",
    "                print(f\"Prawdopodobieństwo dla {i+1} losowań to {probability}\")\n",
    "            writer.writerow([\n",
    "                format(x1,'.50f'),\n",
    "                format(y1,'.50f'),\n",
    "                format(x2,'.50f'),\n",
    "                format(y2,'.50f'),\n",
    "                format(length,'.50f'),\n",
    "                is_longer\n",
    "            ])\n",
    "        probability=Decimal(count)/Decimal(n)\n",
    "        print(f\"Prawdopodobieństwo: {probability}, cięciwy większe od boku trujkąta: {count}, wszystkie cięciwy: {n}\")\n",
    "    print(f\"Zapisano {n} cięciw do pliku {filename}\")"
   ]
  },
  {
   "cell_type": "markdown",
   "id": "b536b012",
   "metadata": {},
   "source": [
    "Metoda 2, losowanie punktu na promieniu"
   ]
  },
  {
   "cell_type": "code",
   "execution_count": null,
   "id": "08b033f2",
   "metadata": {},
   "outputs": [],
   "source": [
    "def metoda_2(n,count=0, filename=\"metoda_2_4.csv\"):\n",
    "    with open(filename, mode='w',newline='') as file:\n",
    "        writer=csv.writer(file)\n",
    "        writer.writerow(['x1','y1','x2','y2','center_x','center_y','length','is_longer'])\n",
    "        for i in range(n):\n",
    "            rho=Decimal(str(random.uniform(0,float(r))))\n",
    "            angle=Decimal(str(random.uniform(0,2*math.pi)))\n",
    "\n",
    "            cx=rho*Decimal(math.cos(float(angle)))\n",
    "            cy=rho*Decimal(math.sin(float(angle)))\n",
    "            \n",
    "            square=r**2-rho**2\n",
    "            length=square.sqrt()\n",
    "            r_len=(cx**2+cy**2).sqrt()\n",
    "            if r_len==0:\n",
    "                px,py=Decimal(1),Decimal(0)\n",
    "            else:\n",
    "                px=-cy/r_len\n",
    "                py=cx/r_len\n",
    "            \n",
    "            x1=cx+px*length\n",
    "            y1=cy+py*length\n",
    "            x2=cx-px*length\n",
    "            y2=cy-py*length\n",
    "            \n",
    "            length=length*2\n",
    "            is_longer=int(length>threshold)\n",
    "            if is_longer==1:\n",
    "                count+=1\n",
    "            if i==119 or i==1199 or i==11999 or i==119999:\n",
    "                probability=Decimal(count)/Decimal(i+1)\n",
    "                print(f\"Prawdopodobieństwo dla {i+1} losowań to {probability}\")\n",
    "            writer.writerow([\n",
    "                format(x1,'.50f'),\n",
    "                format(y1,'.50f'),\n",
    "                format(x2,'.50f'),\n",
    "                format(y2,'.50f'),\n",
    "                format(cx,'.50f'),\n",
    "                format(cy,'.50f'),\n",
    "                format(length,'.50f'),\n",
    "                is_longer\n",
    "            ])\n",
    "        probability=Decimal(count)/Decimal(n)\n",
    "        print(f\"Prawdopodobieństwo: {probability}, cięciwy większe od boku trujkąta: {count}, wszystkie cięciwy: {n}\")\n",
    "    print(f\"Zapisano {n} cięciw do pliku {filename}\")"
   ]
  },
  {
   "cell_type": "markdown",
   "id": "0fec539c",
   "metadata": {},
   "source": [
    "Metoda 3, losowy środek cięciwy"
   ]
  },
  {
   "cell_type": "code",
   "execution_count": 7,
   "id": "c5008297",
   "metadata": {},
   "outputs": [],
   "source": [
    "def metoda_3(n,count=0, filename=\"metoda_3_4.csv\"):\n",
    "    with open(filename, mode='w',newline='') as file:\n",
    "        writer=csv.writer(file)\n",
    "        writer.writerow(['x1','y1','x2','y2','center_x','center_y','length','is_longer'])\n",
    "        for i in range(n):\n",
    "            d=Decimal(random.uniform(0,1)).sqrt()*r\n",
    "            angle=Decimal(str(random.uniform(0,2*math.pi)))\n",
    "\n",
    "            cx=d*Decimal(math.cos(float(angle)))\n",
    "            cy=d*Decimal(math.sin(float(angle)))\n",
    "            \n",
    "            length=(r**2-d**2).sqrt()\n",
    "            perp_angle=angle+Decimal(math.pi/2)\n",
    "        \n",
    "            dx=length*Decimal(math.cos(float(perp_angle)))\n",
    "            dy=length*Decimal(math.sin(float(perp_angle)))\n",
    "            \n",
    "            x1=cx+dx\n",
    "            y1=cy+dy\n",
    "            x2=cx-dx\n",
    "            y2=cy-dy\n",
    "            \n",
    "            length=length*2\n",
    "            is_longer=int(length>threshold)\n",
    "            if is_longer==1:\n",
    "                count+=1\n",
    "            if i==119 or i==1199 or i==11999 or i==119999:\n",
    "                probability=Decimal(count)/Decimal(i+1)\n",
    "                print(f\"Prawdopodobieństwo dla {i+1} losowań to {probability}\")\n",
    "            writer.writerow([\n",
    "                format(x1,'.50f'),\n",
    "                format(y1,'.50f'),\n",
    "                format(x2,'.50f'),\n",
    "                format(y2,'.50f'),\n",
    "                format(cx,'.50f'),\n",
    "                format(cy,'.50f'),\n",
    "                format(length,'.50f'),\n",
    "                is_longer\n",
    "            ])\n",
    "        probability=Decimal(count)/Decimal(n)\n",
    "        print(f\"Prawdopodobieństwo: {probability}, cięciwy większe od boku trujkąta: {count}, wszystkie cięciwy: {n}\")\n",
    "    print(f\"Zapisano {n} cięciw do pliku {filename}\")"
   ]
  },
  {
   "cell_type": "markdown",
   "id": "802d33e7",
   "metadata": {},
   "source": [
    "Użycie kodów"
   ]
  },
  {
   "cell_type": "code",
   "execution_count": null,
   "id": "c3e0c3e5",
   "metadata": {},
   "outputs": [
    {
     "name": "stdout",
     "output_type": "stream",
     "text": [
      "Prawdopodobieństwo: 0.33333333333333333333333333333333333333333333333333, cięciwy większe od boku trujkąta: 1, wszystkie cięciwy: 3\n",
      "Zapisano 3 cięciw do pliku metoda_3_6.csv\n"
     ]
    }
   ],
   "source": [
    "def use_all(n):\n",
    "    metoda_1(n)\n",
    "    metoda_2(n)\n",
    "    metoda_3(n)\n",
    "    \n",
    "use_all(n=1200000)"
   ]
  },
  {
   "cell_type": "code",
   "execution_count": null,
   "id": "8a5a4032",
   "metadata": {},
   "outputs": [
    {
     "name": "stdout",
     "output_type": "stream",
     "text": [
      "Zapisano wykres do pliku: metoda_1_wyk_5.png\n",
      "Zapisano wykres do pliku: metoda_2_wyk_5.png\n",
      "Zapisano wykres do pliku: metoda_3_wyk_5.png\n"
     ]
    }
   ],
   "source": [
    "import csv\n",
    "import matplotlib.pyplot as plt\n",
    "#max_lines-ile cięciw ma być ryswanych\n",
    "def rysuj_cieciwy(filename, max_lines=1200000, scale=500000, save_as=None):\n",
    "    cieciwy_dlugie = []  # zielone\n",
    "    cieciwy_krotkie = []  # czerwone\n",
    "\n",
    "    with open(filename, newline='') as csvfile:\n",
    "        reader = csv.DictReader(csvfile)\n",
    "        for i, row in enumerate(reader):\n",
    "            if i >= max_lines:\n",
    "                break\n",
    "\n",
    "            x1 = float(row['x1']) * scale\n",
    "            y1 = float(row['y1']) * scale\n",
    "            x2 = float(row['x2']) * scale\n",
    "            y2 = float(row['y2']) * scale\n",
    "            is_longer = int(row['is_longer'])\n",
    "\n",
    "            if is_longer:\n",
    "                cieciwy_dlugie.append(((x1, x2), (y1, y2)))\n",
    "            else:\n",
    "                cieciwy_krotkie.append(((x1, x2), (y1, y2)))\n",
    "\n",
    "    fig, ax = plt.subplots(figsize=(10, 10))\n",
    "\n",
    "    circle = plt.Circle((0, 0), scale, color='black', fill=False, linewidth=1)\n",
    "    ax.add_artist(circle)\n",
    "\n",
    "    for x, y in cieciwy_dlugie:\n",
    "        ax.plot(x, y, color='green', linewidth=0.01)\n",
    "    for x, y in cieciwy_krotkie:\n",
    "        ax.plot(x, y, color='red', linewidth=0.01)\n",
    "\n",
    "    ax.set_aspect('equal', 'box')\n",
    "    ax.set_title(f\"Cieciwy w kole dla {filename}\")\n",
    "    ax.set_xlim(-scale * 1.1, scale * 1.1)\n",
    "    ax.set_ylim(-scale * 1.1, scale * 1.1)\n",
    "    ax.set_xlabel('x')\n",
    "    ax.set_ylabel('y')\n",
    "    plt.grid(True)\n",
    "\n",
    "    if save_as:\n",
    "        plt.savefig(save_as, dpi=300)\n",
    "        print(f\"Zapisano wykres do pliku: {save_as}\")\n",
    "    else:\n",
    "        plt.show()\n",
    "\n",
    "    plt.close() \n",
    "\n",
    "#zapisz wykresy do plików PNG\n",
    "rysuj_cieciwy(\"metoda_1_4.csv\", save_as=\"metoda_1_4_wyk.png\")\n",
    "rysuj_cieciwy(\"metoda_2_4.csv\", save_as=\"metoda_2_4_wyk.png\")\n",
    "rysuj_cieciwy(\"metoda_3_4.csv\", save_as=\"metoda_3_4_wyk.png\")"
   ]
  }
 ],
 "metadata": {
  "kernelspec": {
   "display_name": "Python 3",
   "language": "python",
   "name": "python3"
  },
  "language_info": {
   "codemirror_mode": {
    "name": "ipython",
    "version": 3
   },
   "file_extension": ".py",
   "mimetype": "text/x-python",
   "name": "python",
   "nbconvert_exporter": "python",
   "pygments_lexer": "ipython3",
   "version": "3.11.9"
  }
 },
 "nbformat": 4,
 "nbformat_minor": 5
}
